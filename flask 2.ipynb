{
 "cells": [
  {
   "cell_type": "markdown",
   "id": "d9846d46-b6b6-46aa-852e-0eb995d8a1ab",
   "metadata": {
    "tags": []
   },
   "source": [
    "# Q1. Explain GET and POST methods."
   ]
  },
  {
   "cell_type": "markdown",
   "id": "272275a4-6baa-4d67-9fea-8e42d9a4dd07",
   "metadata": {},
   "source": [
    "The GET and POST methods are two of the most commonly used HTTP methods in web development. They determine how data is sent from a client (such as a web browser) to a server and how the server responds to that data.\n",
    "\n",
    "GET method:\n",
    "\n",
    "The GET method is used to retrieve data from a server.\n",
    "When a client sends a GET request, the data is appended to the URL as query parameters.\n",
    "The data is visible in the URL, which makes it less secure for sensitive information like passwords.\n",
    "GET requests are idempotent, meaning they should not have any side effects on the server or the data.\n",
    "They are typically used for retrieving web pages, images, or other resources.\n",
    "POST method:\n",
    "\n",
    "The POST method is used to submit data to a server to create or update a resource.\n",
    "When a client sends a POST request, the data is sent in the body of the request, rather than appended to the URL.\n",
    "The data is not visible in the URL, which makes it more secure for sensitive information.\n",
    "POST requests are not idempotent since they may result in different actions or changes on the server with each request.\n",
    "They are typically used for submitting forms, uploading files, or performing actions that modify server-side data."
   ]
  },
  {
   "cell_type": "markdown",
   "id": "bd862895-03ce-4a0c-be81-3f15331f8fe1",
   "metadata": {},
   "source": [
    "# Q2. Why is request used in Flask?"
   ]
  },
  {
   "cell_type": "markdown",
   "id": "39341193-d5c5-4908-80b1-575e7b113d6a",
   "metadata": {},
   "source": [
    "In Flask, the request object is used to access incoming request data from the client. It provides a convenient way to retrieve information such as form data, query parameters, headers, cookies, and more.\n",
    "\n",
    "Here are some common use cases for the request object in Flask:\n",
    "\n",
    "Accessing Form Data: When a client submits a form, the form data is sent in the request body. The request object allows you to access this data easily. You can retrieve form field values using request.form['field_name'] or request.form.get('field_name').\n",
    "\n",
    "Query Parameters: When a client makes a GET request with query parameters in the URL, you can use the request object to access these parameters. You can retrieve query parameter values using request.args.get('param_name').\n",
    "\n",
    "File Uploads: If your Flask application allows file uploads, the request object provides access to the uploaded files through request.files. You can retrieve uploaded files using request.files['file_field_name'].\n",
    "\n",
    "Accessing Headers: The request object allows you to access HTTP headers sent by the client. You can retrieve specific headers using request.headers.get('header_name')."
   ]
  },
  {
   "cell_type": "markdown",
   "id": "12af1e33-8d56-49df-9933-cc2cbb85a430",
   "metadata": {},
   "source": [
    "# Q3. Why is redirect() used in Flask?"
   ]
  },
  {
   "cell_type": "markdown",
   "id": "f2c06c9a-d2c1-455a-8d1d-03c737797ab0",
   "metadata": {},
   "source": [
    "\n",
    "In Flask, the redirect() function is used to redirect the user's browser to a different URL or route within the application. It allows you to dynamically redirect users to another page, perform a new request, and display the corresponding response.\n",
    "\n",
    "Here are a few reasons why the redirect() function is commonly used in Flask:\n",
    "\n",
    "Route Redirection: You can use redirect() to redirect users to a different route within your Flask application. This is useful when you want to direct users from one endpoint to another, such as after a successful form submission or when handling authentication.\n",
    "\n",
    "External URL Redirection: redirect() can also be used to redirect users to external URLs. This is helpful when you want to redirect users to a different website or a specific page on the web.\n",
    "\n",
    "Post-Redirect-Get (PRG) Pattern: The PRG pattern is a common design pattern used in web applications to avoid duplicate form submissions. After a form submission, instead of returning a normal response, you can use redirect() to redirect the user to another route. This way, if the user refreshes the page, the form won't be submitted again."
   ]
  },
  {
   "cell_type": "markdown",
   "id": "105c5e00-638d-4fc0-b8fd-ffccd785327f",
   "metadata": {},
   "source": [
    "# Q4. What are templates in Flask? Why is the render_template() function used?"
   ]
  },
  {
   "cell_type": "markdown",
   "id": "d37667ed-6ab7-4bd1-86e0-40f9007be299",
   "metadata": {},
   "source": [
    "In Flask, templates are files that contain HTML markup with placeholders for dynamic content. They allow you to separate the presentation logic from the application logic, making it easier to manage and update the user interface of your web application.\n",
    "\n",
    "Templates in Flask serve as a way to generate dynamic HTML pages by combining static HTML code with dynamic data from the application. They enable you to create reusable HTML structures and dynamically insert data into those structures based on the current state of the application.\n",
    "\n",
    "The render_template() function is used in Flask to render templates and generate HTML responses. It takes the name of the template file as an argument, along with optional additional parameters to pass data to the template. The function then processes the template, replaces placeholders with the provided data, and returns the resulting HTML to the client.\n",
    "\n",
    "Here are a few reasons why the render_template() function is commonly used in Flask:\n",
    "\n",
    "Dynamic Web Pages: With render_template(), you can generate dynamic web pages by injecting data from the application into the HTML templates. This allows you to create personalized and data-driven views for your users.\n",
    "\n",
    "Separation of Concerns: Templates help separate the presentation logic (HTML and CSS) from the application logic (Python code). This separation promotes code organization, maintainability, and reusability.\n",
    "\n",
    "Code Reusability: Templates allow you to define reusable HTML structures or components that can be shared across multiple pages or views within your application. This reduces code duplication and simplifies maintenance.\n",
    "\n",
    "Template Inheritance: Flask supports template inheritance, where you can create a base template with common elements (e.g., header, footer, navigation) and then extend or override specific sections in child templates. This enables efficient management of shared layouts and consistent design across pages.\n",
    "\n"
   ]
  },
  {
   "cell_type": "markdown",
   "id": "f860bf08-5cce-4867-bb5e-2330922625d0",
   "metadata": {
    "tags": []
   },
   "source": [
    "# Q5. Create a simple API. Use Postman to test it. Attach the screenshot of the output in the Jupyter Notebook."
   ]
  },
  {
   "cell_type": "code",
   "execution_count": null,
   "id": "2209a3b8-cb9d-4d20-ad2a-630e999a6aee",
   "metadata": {},
   "outputs": [],
   "source": [
    "from flash import Flask\n",
    "\n",
    "app = Flask(__name__)\n",
    "\n",
    "@app.route(\"/\")\n",
    "def class1()"
   ]
  }
 ],
 "metadata": {
  "kernelspec": {
   "display_name": "Python 3 (ipykernel)",
   "language": "python",
   "name": "python3"
  },
  "language_info": {
   "codemirror_mode": {
    "name": "ipython",
    "version": 3
   },
   "file_extension": ".py",
   "mimetype": "text/x-python",
   "name": "python",
   "nbconvert_exporter": "python",
   "pygments_lexer": "ipython3",
   "version": "3.10.8"
  }
 },
 "nbformat": 4,
 "nbformat_minor": 5
}
